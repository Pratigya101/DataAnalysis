{
 "cells": [
  {
   "metadata": {},
   "cell_type": "markdown",
   "source": "# Titanic DataAnalysis",
   "id": "ee665012345ec946"
  },
  {
   "metadata": {},
   "cell_type": "code",
   "outputs": [],
   "execution_count": null,
   "source": [
    "import pandas as pd\n",
    "\n",
    "# Function to load data\n",
    "def load_data(file_path):\n",
    "\n",
    "    try:\n",
    "        df = pd.read_csv(file_path)\n",
    "        return df\n",
    "    except Exception as e:\n",
    "        print(f\"Error loading data: {e}\")\n",
    "        return None\n",
    "\n",
    "\n",
    "file_path = \"/Users/pratigyajamakatel/Downloads/Titanic-Dataset.csv\"\n",
    "df = load_data(file_path)\n",
    "\n",
    "# Check if data is loaded\n",
    "if df is not None:\n",
    "    print(df.head())\n"
   ],
   "id": "2ddebde34620c7ae"
  },
  {
   "metadata": {},
   "cell_type": "code",
   "outputs": [],
   "execution_count": null,
   "source": "",
   "id": "7ca732c328b007a8"
  },
  {
   "metadata": {},
   "cell_type": "code",
   "outputs": [],
   "execution_count": null,
   "source": "",
   "id": "584281f79d7ef3fb"
  },
  {
   "metadata": {},
   "cell_type": "markdown",
   "source": "# Display Basic info",
   "id": "844caeef6283ef57"
  },
  {
   "metadata": {},
   "cell_type": "code",
   "outputs": [],
   "execution_count": null,
   "source": [
    "def basic_info(df):\n",
    "    print(\"\\nDataset Info:\")\n",
    "    print(df.info())\n",
    "\n",
    "\n",
    "# If data loaded successfully, display basic info\n",
    "if df is not None:\n",
    "    basic_info(df)\n"
   ],
   "id": "fcb2cd96bbd13829"
  },
  {
   "metadata": {},
   "cell_type": "markdown",
   "source": "# Checking Missing Values",
   "id": "371d2168e4289032"
  },
  {
   "metadata": {},
   "cell_type": "code",
   "outputs": [],
   "execution_count": null,
   "source": [
    "def missing_values(df):\n",
    "    print(\"\\n Missing Values:\")\n",
    "    print(df.isnull().sum())\n",
    "\n",
    "# Check missing values in the dataset\n",
    "if df is not None:\n",
    "    missing_values(df)\n"
   ],
   "id": "95cc50d081f158da"
  },
  {
   "metadata": {},
   "cell_type": "markdown",
   "source": "# Fill missing values",
   "id": "35681e0a1ef9780f"
  },
  {
   "metadata": {},
   "cell_type": "code",
   "outputs": [],
   "execution_count": null,
   "source": [
    "def handle_missing_values(df):\n",
    "    df[\"Age\"].fillna(df[\"Age\"].median())\n",
    "    df[\"Embarked\"].fillna(df[\"Embarked\"].mode()[0])\n",
    "    df[\"Cabin\"].fillna(\"Unknown\")\n",
    "    return df\n",
    "\n",
    "# Handle missing values\n",
    "if df is not None:\n",
    "    df = handle_missing_values(df)\n",
    "    print(\"\\n Missing values handled!\")\n"
   ],
   "id": "ef2ef9da06f500a0"
  },
  {
   "metadata": {},
   "cell_type": "markdown",
   "source": "# Statistical Summary",
   "id": "f84ab0adce7834c9"
  },
  {
   "metadata": {},
   "cell_type": "code",
   "outputs": [],
   "execution_count": null,
   "source": [
    "def summary_statistics(df):\n",
    "    print(\"\\n Summary Statistics:\")\n",
    "    print(df.describe())\n",
    "\n",
    "# Display statistical summary\n",
    "if df is not None:\n",
    "    summary_statistics(df)\n"
   ],
   "id": "432fd7e57010040f"
  },
  {
   "metadata": {},
   "cell_type": "markdown",
   "source": "# Visualizing missing data",
   "id": "990f6e40c212e4cc"
  },
  {
   "metadata": {},
   "cell_type": "code",
   "outputs": [],
   "execution_count": null,
   "source": [
    "import matplotlib.pyplot as plt\n",
    "import seaborn as sns\n",
    "\n",
    "def visualize_missing_data(df):\n",
    "    plt.figure(figsize=(10, 5))\n",
    "    sns.heatmap(df.isnull(), cmap=\"viridis\", cbar=False, yticklabels=False)\n",
    "    plt.title(\"Missing Data Heatmap\")\n",
    "    plt.show()\n",
    "\n",
    "# Visualize missing data\n",
    "if df is not None:\n",
    "    visualize_missing_data(df)\n"
   ],
   "id": "93e0519394056575"
  },
  {
   "metadata": {},
   "cell_type": "markdown",
   "source": "# Data Distribution",
   "id": "55bcd8903a8f260e"
  },
  {
   "metadata": {},
   "cell_type": "code",
   "outputs": [],
   "execution_count": null,
   "source": [
    "import matplotlib.pyplot as plt\n",
    "import seaborn as sns\n",
    "\n",
    "def visualize_missing_data(df):\n",
    "    plt.figure(figsize=(10, 5))\n",
    "    sns.heatmap(df.isnull(), cmap=\"viridis\", cbar=False, yticklabels=False)\n",
    "    plt.title(\"Missing Data Heatmap\")\n",
    "    plt.show()\n",
    "\n",
    "# Visualize missing data\n",
    "if df is not None:\n",
    "    visualize_missing_data(df)\n"
   ],
   "id": "689086ca4bd7a772"
  },
  {
   "metadata": {},
   "cell_type": "markdown",
   "source": "# Survival vs NotSurvioval",
   "id": "f2f26637ae128b22"
  },
  {
   "metadata": {},
   "cell_type": "code",
   "outputs": [],
   "execution_count": null,
   "source": [
    "# Define the survival_count function correctly\n",
    "def survival_count(df):\n",
    "    plt.figure(figsize=(6, 4))\n",
    "    sns.countplot(x=\"Survived\",hue=\"Sex\",data=df, palette=\"Set2\")\n",
    "    plt.title(\"Survival Count\")\n",
    "    plt.xlabel(\"Survived (0 = No, 1 = Yes)\")\n",
    "    plt.ylabel(\"Count\")\n",
    "    plt.show()\n",
    "\n",
    "# Visualize survival count\n",
    "if df is not None:\n",
    "    survival_count(df)\n",
    "\n"
   ],
   "id": "eba60f104a5060a4"
  },
  {
   "metadata": {},
   "cell_type": "markdown",
   "source": "# Survival Rate By Gender",
   "id": "277600482805b714"
  },
  {
   "metadata": {},
   "cell_type": "code",
   "outputs": [],
   "execution_count": null,
   "source": [
    "def survival_by_gender(df):\n",
    "    plt.figure(figsize=(6, 4))\n",
    "    sns.countplot(x=\"Sex\", hue=\"Survived\", data=df, palette=\"Set1\")\n",
    "    plt.title(\"Survival by Gender\")\n",
    "    plt.xlabel(\"Gender\")\n",
    "    plt.ylabel(\"Count\")\n",
    "    plt.legend([\"Not Survived\", \"Survived\"])\n",
    "    plt.show()\n",
    "\n",
    "# Visualize survival rate by gender\n",
    "if df is not None:\n",
    "    survival_by_gender(df)\n"
   ],
   "id": "21796388ae873dc"
  },
  {
   "metadata": {},
   "cell_type": "markdown",
   "source": "# Survival Rate by Passenger Class",
   "id": "75f422fe1025d5eb"
  },
  {
   "metadata": {},
   "cell_type": "code",
   "outputs": [],
   "execution_count": null,
   "source": [
    "def survival_by_class(df):\n",
    "    plt.figure(figsize=(6, 4))\n",
    "    sns.countplot(x=\"Pclass\", hue=\"Survived\", data=df, palette=\"coolwarm\")\n",
    "    plt.title(\"Survival by Passenger Class\")\n",
    "    plt.xlabel(\"Passenger Class\")\n",
    "    plt.ylabel(\"Count\")\n",
    "    plt.legend([\"Not Survived\", \"Survived\"])\n",
    "    plt.show()\n",
    "\n",
    "# Visualize survival rate by passenger class\n",
    "if df is not None:\n",
    "    survival_by_class(df)\n"
   ],
   "id": "6d798701ec56f5af"
  },
  {
   "metadata": {},
   "cell_type": "markdown",
   "source": "# Correlation Heatmap",
   "id": "220034845c31b272"
  },
  {
   "metadata": {},
   "cell_type": "code",
   "outputs": [],
   "execution_count": null,
   "source": [
    "# Define the correlation_heatmap function\n",
    "def correlation_heatmap(df):\n",
    "    # Filter numeric columns only\n",
    "    df_numeric = df.select_dtypes(include=[np.number])  # Keep only numeric columns\n",
    "\n",
    "    # Plotting the correlation heatmap\n",
    "    plt.figure(figsize=(8, 6))\n",
    "    sns.heatmap(df_numeric.corr(), annot=True, cmap=\"coolwarm\", linewidths=0.5)\n",
    "    plt.title(\"Feature Correlation Heatmap\")\n",
    "    plt.show()\n",
    "\n",
    "\n",
    "# Display correlation heatmap if df is not None\n",
    "if df is not None:\n",
    "    correlation_heatmap(df)\n"
   ],
   "id": "ccc8a0d74598ebeb"
  },
  {
   "metadata": {},
   "cell_type": "markdown",
   "source": "# Feature Engineering",
   "id": "e317ba1a1e68b5f4"
  },
  {
   "metadata": {},
   "cell_type": "code",
   "outputs": [],
   "execution_count": null,
   "source": [
    "def feature_engineering(df):\n",
    "    df[\"FamilySize\"] = df[\"SibSp\"] + df[\"Parch\"] + 1\n",
    "    print(\"\\n Feature 'FamilySize' added!\")\n",
    "    return df\n",
    "\n",
    "# Add family size feature\n",
    "if df is not None:\n",
    "    df = feature_engineering(df)\n"
   ],
   "id": "dd8a4ff3e6389627"
  },
  {
   "metadata": {},
   "cell_type": "code",
   "outputs": [],
   "execution_count": null,
   "source": [
    "import pandas as pd\n",
    "import numpy as np\n",
    "import matplotlib.pyplot as plt\n",
    "import seaborn as sns\n",
    "\n",
    "# Feature Engineering: Creating new column \"FamilySize\n",
    "def feature_engineering(df):\n",
    "    df[\"FamilySize\"] = df[\"SibSp\"] + df[\"Parch\"] + 1\n",
    "    print(\"\\n Feature 'FamilySize' added!\")\n",
    "    return df\n",
    "\n",
    "# Visualize FamilySize distribution\n",
    "def visualize_family_size(df):\n",
    "    plt.figure(figsize=(12, 6))\n",
    "    sns.histplot(df[\"FamilySize\"], bins=20, kde=True, color='purple')\n",
    "    plt.title(\"Family Size Distribution\")\n",
    "    plt.xlabel(\"Family Size\")\n",
    "    plt.ylabel(\"Count\")\n",
    "    plt.show()\n",
    "\n",
    "# Run feature engineering and visualization\n",
    "if df is not None:\n",
    "    df = feature_engineering(df)  # Perform feature engineering\n",
    "    visualize_family_size(df)    # Visualize Family Size Distribution\n"
   ],
   "id": "e5edbb52669d7e63"
  },
  {
   "metadata": {},
   "cell_type": "markdown",
   "source": "# Age Distribution",
   "id": "9e5d81f6a3530ce2"
  },
  {
   "metadata": {},
   "cell_type": "code",
   "outputs": [],
   "execution_count": null,
   "source": [
    "def visualize_age_distribution(df):\n",
    "    plt.figure(figsize=(12, 6))\n",
    "    sns.histplot(df[\"Age\"], bins=30, kde=True, color='green')\n",
    "    plt.title(\"Age Distribution\")\n",
    "    plt.xlabel(\"Age\")\n",
    "    plt.ylabel(\"Count\")\n",
    "    plt.show()\n",
    "\n",
    "# Run the age distribution visualization\n",
    "if df is not None:\n",
    "    visualize_age_distribution(df)\n"
   ],
   "id": "d21617b1ff5c0eb0"
  },
  {
   "metadata": {},
   "cell_type": "markdown",
   "source": "# Survival vs Fare",
   "id": "ecb2f665d8d9a4fe"
  },
  {
   "metadata": {},
   "cell_type": "code",
   "outputs": [],
   "execution_count": null,
   "source": [
    "def survival_by_fare(df):\n",
    "    plt.figure(figsize=(12, 6))\n",
    "    sns.boxplot(x=\"Survived\",hue=\"Sex\", y=\"Fare\", data=df, palette=\"Set2\")\n",
    "    plt.title(\"Survival vs. Fare\")\n",
    "    plt.xlabel(\"Survival (0 = No, 1 = Yes)\")\n",
    "    plt.ylabel(\"Fare\")\n",
    "    plt.show()\n",
    "\n",
    "# Run the survival vs fare visualization\n",
    "if df is not None:\n",
    "    survival_by_fare(df)\n"
   ],
   "id": "af0f603594ac859b"
  },
  {
   "metadata": {},
   "cell_type": "markdown",
   "source": "",
   "id": "c99e3bb9f25652df"
  },
  {
   "metadata": {},
   "cell_type": "code",
   "outputs": [],
   "execution_count": null,
   "source": [
    "def drop_unnecessary_columns(df):\n",
    "    # Example: Drop columns with too many missing values or irrelevant columns\n",
    "    columns_to_drop = ['Fare']  # Adjust based on visualizations\n",
    "    df = df.drop(columns=columns_to_drop, axis=1)\n",
    "    print(\"\\n Unnecessary columns dropped!\")\n",
    "    return df\n",
    "\n",
    "# Drop unnecessary columns\n",
    "if df is not None:\n",
    "    df = drop_unnecessary_columns(df)\n"
   ],
   "id": "c41e044a63c62868"
  },
  {
   "metadata": {
    "ExecuteTime": {
     "end_time": "2025-03-07T05:40:35.743843Z",
     "start_time": "2025-03-07T05:40:35.073449Z"
    }
   },
   "cell_type": "code",
   "source": [
    "from sklearn.model_selection import train_test_split, cross_val_score\n",
    "from sklearn.impute import SimpleImputer\n",
    "from sklearn.neighbors import KNeighborsClassifier\n",
    "from sklearn.ensemble import RandomForestClassifier\n",
    "from sklearn.linear_model import LogisticRegression\n",
    "from sklearn.metrics import accuracy_score\n",
    "\n",
    "# Example: Loading and splitting data (replace with your dataset)\n",
    "from sklearn.datasets import load_iris\n",
    "data = load_iris()\n",
    "X = data.data\n",
    "y = data.target\n",
    "\n",
    "# Introduce some missing values artificially\n",
    "import numpy as np\n",
    "X[::5] = np.nan  # introduce missing values in every 5th row\n",
    "\n",
    "# Split the dataset\n",
    "X_train, X_test, y_train, y_test = train_test_split(X, y, test_size=0.2, random_state=42)\n",
    "\n",
    "# 1. Mean Imputation\n",
    "mean_imputer = SimpleImputer(strategy='mean')\n",
    "X_train_mean_imputed = mean_imputer.fit_transform(X_train)\n",
    "X_test_mean_imputed = mean_imputer.transform(X_test)\n",
    "\n",
    "# 2. KNN Imputation\n",
    "knn_imputer = SimpleImputer(strategy='most_frequent')\n",
    "X_train_knn_imputed = knn_imputer.fit_transform(X_train)\n",
    "X_test_knn_imputed = knn_imputer.transform(X_test)\n",
    "\n",
    "# 3. Train Classifiers on both imputed data\n",
    "# You can use any classifier you like, here RandomForest as an example:\n",
    "rf = RandomForestClassifier()\n",
    "\n",
    "# Evaluate using Cross Validation for Mean Imputation\n",
    "cv_mean = cross_val_score(rf, X_train_mean_imputed, y_train, cv=5)\n",
    "print(\"Mean Imputation CV Accuracy:\", cv_mean.mean())\n",
    "\n",
    "# Evaluate using Cross Validation for KNN Imputation\n",
    "cv_knn = cross_val_score(rf, X_train_knn_imputed, y_train, cv=5)\n",
    "print(\"KNN Imputation CV Accuracy:\", cv_knn.mean())\n"
   ],
   "id": "224c039bda8cf13c",
   "outputs": [
    {
     "name": "stdout",
     "output_type": "stream",
     "text": [
      "Mean Imputation CV Accuracy: 0.775\n",
      "KNN Imputation CV Accuracy: 0.7583333333333334\n"
     ]
    }
   ],
   "execution_count": 1
  },
  {
   "metadata": {
    "ExecuteTime": {
     "end_time": "2025-03-07T06:27:51.271307Z",
     "start_time": "2025-03-07T06:27:51.268067Z"
    }
   },
   "cell_type": "code",
   "source": [
    "import numpy as np # linear algebra\n",
    "import pandas as pd # data processing, CSV file I/O (e.g. pd.read_csv)\n",
    "import seaborn as sns\n",
    "import matplotlib.pyplot as plt\n",
    "# Input data files are available in the read-only \"../input/\" directory\n",
    "# For example, running this (by clicking run or pressing Shift+Enter) will list all files under the input directory\n",
    "\n",
    "import os\n",
    "for dirname, _, filenames in os.walk('/Users/pratigyajamakatel/Downloads/data.csv'):\n",
    "    for filename in filenames:\n",
    "        print(os.path.join(dirname, filename))"
   ],
   "id": "887064d5669d5fe6",
   "outputs": [],
   "execution_count": 15
  },
  {
   "metadata": {
    "ExecuteTime": {
     "end_time": "2025-03-07T06:29:14.009114Z",
     "start_time": "2025-03-07T06:29:13.987561Z"
    }
   },
   "cell_type": "code",
   "source": [
    "training = pd.read_csv('/Users/pratigyajamakatel/Downloads/data.csv')\n",
    "test = pd.read_csv('/Users/pratigyajamakatel/Downloads/data.csv')\n",
    "\n",
    "training['train_test'] = 1\n",
    "test['train_test'] = 0\n",
    "test['Survived'] = np.nan\n",
    "all_data = pd.concat([training,test])\n",
    "\n",
    "%matplotlib inline\n",
    "all_data.columns"
   ],
   "id": "d9a969d3be02e2ad",
   "outputs": [
    {
     "data": {
      "text/plain": [
       "Index(['PassengerId', 'Survived', 'Pclass', 'Name', 'Sex', 'Age', 'SibSp',\n",
       "       'Parch', 'Ticket', 'Fare', 'Cabin', 'Embarked', 'train_test'],\n",
       "      dtype='object')"
      ]
     },
     "execution_count": 17,
     "metadata": {},
     "output_type": "execute_result"
    }
   ],
   "execution_count": 17
  },
  {
   "metadata": {},
   "cell_type": "code",
   "outputs": [],
   "execution_count": null,
   "source": "",
   "id": "b711c3a671f5f096"
  }
 ],
 "metadata": {
  "kernelspec": {
   "display_name": "Python 3",
   "language": "python",
   "name": "python3"
  },
  "language_info": {
   "codemirror_mode": {
    "name": "ipython",
    "version": 2
   },
   "file_extension": ".py",
   "mimetype": "text/x-python",
   "name": "python",
   "nbconvert_exporter": "python",
   "pygments_lexer": "ipython2",
   "version": "2.7.6"
  }
 },
 "nbformat": 4,
 "nbformat_minor": 5
}
